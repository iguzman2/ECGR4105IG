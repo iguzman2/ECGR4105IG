{
  "nbformat": 4,
  "nbformat_minor": 0,
  "metadata": {
    "colab": {
      "provenance": []
    },
    "kernelspec": {
      "name": "python3",
      "display_name": "Python 3"
    },
    "language_info": {
      "name": "python"
    }
  },
  "cells": [
    {
      "cell_type": "markdown",
      "source": [
        "Importing the CSV file\n"
      ],
      "metadata": {
        "id": "5ioInXHtvJju"
      }
    },
    {
      "cell_type": "code",
      "execution_count": 3,
      "metadata": {
        "colab": {
          "base_uri": "https://localhost:8080/",
          "height": 73
        },
        "id": "NzYuVR7osp6I",
        "outputId": "9b9a67a3-8392-4214-8c0c-b127214492b5"
      },
      "outputs": [
        {
          "output_type": "display_data",
          "data": {
            "text/plain": [
              "<IPython.core.display.HTML object>"
            ],
            "text/html": [
              "\n",
              "     <input type=\"file\" id=\"files-f081fea6-3183-4090-a322-3bc9127ec78a\" name=\"files[]\" multiple disabled\n",
              "        style=\"border:none\" />\n",
              "     <output id=\"result-f081fea6-3183-4090-a322-3bc9127ec78a\">\n",
              "      Upload widget is only available when the cell has been executed in the\n",
              "      current browser session. Please rerun this cell to enable.\n",
              "      </output>\n",
              "      <script>// Copyright 2017 Google LLC\n",
              "//\n",
              "// Licensed under the Apache License, Version 2.0 (the \"License\");\n",
              "// you may not use this file except in compliance with the License.\n",
              "// You may obtain a copy of the License at\n",
              "//\n",
              "//      http://www.apache.org/licenses/LICENSE-2.0\n",
              "//\n",
              "// Unless required by applicable law or agreed to in writing, software\n",
              "// distributed under the License is distributed on an \"AS IS\" BASIS,\n",
              "// WITHOUT WARRANTIES OR CONDITIONS OF ANY KIND, either express or implied.\n",
              "// See the License for the specific language governing permissions and\n",
              "// limitations under the License.\n",
              "\n",
              "/**\n",
              " * @fileoverview Helpers for google.colab Python module.\n",
              " */\n",
              "(function(scope) {\n",
              "function span(text, styleAttributes = {}) {\n",
              "  const element = document.createElement('span');\n",
              "  element.textContent = text;\n",
              "  for (const key of Object.keys(styleAttributes)) {\n",
              "    element.style[key] = styleAttributes[key];\n",
              "  }\n",
              "  return element;\n",
              "}\n",
              "\n",
              "// Max number of bytes which will be uploaded at a time.\n",
              "const MAX_PAYLOAD_SIZE = 100 * 1024;\n",
              "\n",
              "function _uploadFiles(inputId, outputId) {\n",
              "  const steps = uploadFilesStep(inputId, outputId);\n",
              "  const outputElement = document.getElementById(outputId);\n",
              "  // Cache steps on the outputElement to make it available for the next call\n",
              "  // to uploadFilesContinue from Python.\n",
              "  outputElement.steps = steps;\n",
              "\n",
              "  return _uploadFilesContinue(outputId);\n",
              "}\n",
              "\n",
              "// This is roughly an async generator (not supported in the browser yet),\n",
              "// where there are multiple asynchronous steps and the Python side is going\n",
              "// to poll for completion of each step.\n",
              "// This uses a Promise to block the python side on completion of each step,\n",
              "// then passes the result of the previous step as the input to the next step.\n",
              "function _uploadFilesContinue(outputId) {\n",
              "  const outputElement = document.getElementById(outputId);\n",
              "  const steps = outputElement.steps;\n",
              "\n",
              "  const next = steps.next(outputElement.lastPromiseValue);\n",
              "  return Promise.resolve(next.value.promise).then((value) => {\n",
              "    // Cache the last promise value to make it available to the next\n",
              "    // step of the generator.\n",
              "    outputElement.lastPromiseValue = value;\n",
              "    return next.value.response;\n",
              "  });\n",
              "}\n",
              "\n",
              "/**\n",
              " * Generator function which is called between each async step of the upload\n",
              " * process.\n",
              " * @param {string} inputId Element ID of the input file picker element.\n",
              " * @param {string} outputId Element ID of the output display.\n",
              " * @return {!Iterable<!Object>} Iterable of next steps.\n",
              " */\n",
              "function* uploadFilesStep(inputId, outputId) {\n",
              "  const inputElement = document.getElementById(inputId);\n",
              "  inputElement.disabled = false;\n",
              "\n",
              "  const outputElement = document.getElementById(outputId);\n",
              "  outputElement.innerHTML = '';\n",
              "\n",
              "  const pickedPromise = new Promise((resolve) => {\n",
              "    inputElement.addEventListener('change', (e) => {\n",
              "      resolve(e.target.files);\n",
              "    });\n",
              "  });\n",
              "\n",
              "  const cancel = document.createElement('button');\n",
              "  inputElement.parentElement.appendChild(cancel);\n",
              "  cancel.textContent = 'Cancel upload';\n",
              "  const cancelPromise = new Promise((resolve) => {\n",
              "    cancel.onclick = () => {\n",
              "      resolve(null);\n",
              "    };\n",
              "  });\n",
              "\n",
              "  // Wait for the user to pick the files.\n",
              "  const files = yield {\n",
              "    promise: Promise.race([pickedPromise, cancelPromise]),\n",
              "    response: {\n",
              "      action: 'starting',\n",
              "    }\n",
              "  };\n",
              "\n",
              "  cancel.remove();\n",
              "\n",
              "  // Disable the input element since further picks are not allowed.\n",
              "  inputElement.disabled = true;\n",
              "\n",
              "  if (!files) {\n",
              "    return {\n",
              "      response: {\n",
              "        action: 'complete',\n",
              "      }\n",
              "    };\n",
              "  }\n",
              "\n",
              "  for (const file of files) {\n",
              "    const li = document.createElement('li');\n",
              "    li.append(span(file.name, {fontWeight: 'bold'}));\n",
              "    li.append(span(\n",
              "        `(${file.type || 'n/a'}) - ${file.size} bytes, ` +\n",
              "        `last modified: ${\n",
              "            file.lastModifiedDate ? file.lastModifiedDate.toLocaleDateString() :\n",
              "                                    'n/a'} - `));\n",
              "    const percent = span('0% done');\n",
              "    li.appendChild(percent);\n",
              "\n",
              "    outputElement.appendChild(li);\n",
              "\n",
              "    const fileDataPromise = new Promise((resolve) => {\n",
              "      const reader = new FileReader();\n",
              "      reader.onload = (e) => {\n",
              "        resolve(e.target.result);\n",
              "      };\n",
              "      reader.readAsArrayBuffer(file);\n",
              "    });\n",
              "    // Wait for the data to be ready.\n",
              "    let fileData = yield {\n",
              "      promise: fileDataPromise,\n",
              "      response: {\n",
              "        action: 'continue',\n",
              "      }\n",
              "    };\n",
              "\n",
              "    // Use a chunked sending to avoid message size limits. See b/62115660.\n",
              "    let position = 0;\n",
              "    do {\n",
              "      const length = Math.min(fileData.byteLength - position, MAX_PAYLOAD_SIZE);\n",
              "      const chunk = new Uint8Array(fileData, position, length);\n",
              "      position += length;\n",
              "\n",
              "      const base64 = btoa(String.fromCharCode.apply(null, chunk));\n",
              "      yield {\n",
              "        response: {\n",
              "          action: 'append',\n",
              "          file: file.name,\n",
              "          data: base64,\n",
              "        },\n",
              "      };\n",
              "\n",
              "      let percentDone = fileData.byteLength === 0 ?\n",
              "          100 :\n",
              "          Math.round((position / fileData.byteLength) * 100);\n",
              "      percent.textContent = `${percentDone}% done`;\n",
              "\n",
              "    } while (position < fileData.byteLength);\n",
              "  }\n",
              "\n",
              "  // All done.\n",
              "  yield {\n",
              "    response: {\n",
              "      action: 'complete',\n",
              "    }\n",
              "  };\n",
              "}\n",
              "\n",
              "scope.google = scope.google || {};\n",
              "scope.google.colab = scope.google.colab || {};\n",
              "scope.google.colab._files = {\n",
              "  _uploadFiles,\n",
              "  _uploadFilesContinue,\n",
              "};\n",
              "})(self);\n",
              "</script> "
            ]
          },
          "metadata": {}
        },
        {
          "output_type": "stream",
          "name": "stdout",
          "text": [
            "Saving D3.csv to D3.csv\n"
          ]
        }
      ],
      "source": [
        "import pandas as pd\n",
        "\n",
        "from google.colab import files\n",
        "uploaded = files.upload()"
      ]
    },
    {
      "cell_type": "code",
      "source": [
        "import io\n",
        "df = pd.read_csv(io.BytesIO(uploaded['D3.csv']))\n"
      ],
      "metadata": {
        "id": "SOaSz_37w0uh"
      },
      "execution_count": 4,
      "outputs": []
    },
    {
      "cell_type": "markdown",
      "source": [
        "Reading the csv file\n",
        "\n"
      ],
      "metadata": {
        "id": "k8sbO1hBx9LL"
      }
    },
    {
      "cell_type": "code",
      "source": [
        "from re import X\n",
        "x1 = df['X1']\n",
        "x2 = df['X2']\n",
        "x3 = df['X3']\n",
        "y = df['Y']"
      ],
      "metadata": {
        "id": "cqxJ2tn0yGH7"
      },
      "execution_count": 5,
      "outputs": []
    },
    {
      "cell_type": "markdown",
      "source": [
        "Gathering the Data from the CSV file\n"
      ],
      "metadata": {
        "id": "iCYmdqQL2PHs"
      }
    },
    {
      "cell_type": "code",
      "source": [
        "import matplotlib.pyplot as plt\n",
        "\n",
        "\n",
        "\n",
        "plt.scatter(x1,y)\n",
        "\n",
        "# naming the x axis\n",
        "plt.xlabel('x1')\n",
        "# naming the y axis\n",
        "plt.ylabel('y')\n",
        "  \n",
        "# giving a title to my graph\n",
        "plt.title('x1 vs y')\n",
        "  \n",
        "# function to show the plot\n",
        "plt.show()"
      ],
      "metadata": {
        "colab": {
          "base_uri": "https://localhost:8080/",
          "height": 295
        },
        "id": "HsoKUia-2w9d",
        "outputId": "0bf29007-13dc-4198-fc1d-3ce9289011f3"
      },
      "execution_count": 6,
      "outputs": [
        {
          "output_type": "display_data",
          "data": {
            "text/plain": [
              "<Figure size 432x288 with 1 Axes>"
            ],
            "image/png": "[encoded data removed]"
          },
          "metadata": {
            "needs_background": "light"
          }
        }
      ]
    },
    {
      "cell_type": "markdown",
      "source": [
        "##Function for Computing the Linear Model"
      ],
      "metadata": {
        "id": "GJ8ZKmqs3G3I"
      }
    },
    {
      "cell_type": "code",
      "source": [
        "import numpy as np\n",
        "\n",
        "def estimates(X, Y):\n",
        "\n",
        "  #making the Column of 1's\n",
        "  xOnes = np.ones((100,1))\n",
        "\n",
        "  #Creating the Matrix of X values and Ones into a 100 by 2 matrix \n",
        "  s = X.values\n",
        "  matrix = s.reshape(-1,1)\n",
        "  xMatrix = np.hstack((matrix,xOnes))\n",
        "\n",
        "  #Transpose matrix\n",
        "  mT = xMatrix.transpose()\n",
        "\n",
        "  #Identity Matrix\n",
        "  identyMatrix = mT @ xMatrix\n",
        "\n",
        "  #Inverse of Identity Matrix\n",
        "  inverVal = np.linalg.inv(identyMatrix)\n",
        "\n",
        "  #Converting the Y values to a usable matrix\n",
        "  ys = Y.values\n",
        "  yVal = ys.reshape(-1,1)\n",
        "\n",
        "  #Calculating the Betas \n",
        "  betaMSE = inverVal @ mT @ yVal\n",
        "\n",
        "  return xMatrix, betaMSE, matrix, yVal\n",
        "  "
      ],
      "metadata": {
        "id": "b78HmCwJAIKK"
      },
      "execution_count": 13,
      "outputs": []
    },
    {
      "cell_type": "markdown",
      "source": [
        "##Function for Computing the Costs"
      ],
      "metadata": {
        "id": "E0xDg61x3Yd0"
      }
    },
    {
      "cell_type": "code",
      "source": [
        "\n",
        "\n",
        "def cost_val(X, y, theta): \n",
        " \n",
        "  predictions = X @ theta\n",
        "  err = predictions - y \n",
        "  sqrErrors = np.square(err) \n",
        "  cost = 1 / (2 * 100) * np.sum(sqrErrors) \n",
        " \n",
        "  return cost\n",
        "\n",
        "\n"
      ],
      "metadata": {
        "id": "YhrO3OMrVC_f"
      },
      "execution_count": 8,
      "outputs": []
    },
    {
      "cell_type": "markdown",
      "source": [
        "##Function for Computing the Gradient Descent"
      ],
      "metadata": {
        "id": "H3N_Slg43l5l"
      }
    },
    {
      "cell_type": "code",
      "source": [
        "def gradient_descent(X, y, theta, alpha, iterations): \n",
        "\n",
        "  cost_history = np.zeros(iterations) \n",
        " \n",
        "  for i in range(iterations): \n",
        "    predictions = X.dot(theta) \n",
        "    errors = np.subtract(predictions, y) \n",
        "    sum_delta = (alpha / 100) * X.transpose().dot(errors); \n",
        "    theta = theta - sum_delta; \n",
        "    cost_history[i] = cost_val(X, y, theta)   \n",
        " \n",
        "  return theta,cost_history \n"
      ],
      "metadata": {
        "id": "J3HKjWmhapo9"
      },
      "execution_count": 9,
      "outputs": []
    },
    {
      "cell_type": "markdown",
      "source": [
        "# Work for Problem 1: x1\n"
      ],
      "metadata": {
        "id": "WIGdtvc05eNc"
      }
    },
    {
      "cell_type": "markdown",
      "source": [
        "##Linear Model"
      ],
      "metadata": {
        "id": "Vi5BIyEX85Mc"
      }
    },
    {
      "cell_type": "code",
      "source": [
        "\n",
        "x1Matrix, betaMSE_1, x1M, yVal = estimates(x1,y)\n",
        "\n",
        "estiVal= x1Matrix @ betaMSE_1\n",
        "\n",
        "\n",
        "#plotting both lines\n",
        "# Gathered Data\n",
        "plt.scatter(x1, y, label = \"Gathered data\")\n",
        "\n",
        "#Plotting the Estimated Line \n",
        "xVal = np.linspace(0, 4, 100)\n",
        "plt.plot(xVal, estiVal, color='red', label = \"Estimated Values\")\n",
        "\n",
        "# naming the x axis\n",
        "plt.xlabel('x - axis')\n",
        "# naming the y axis\n",
        "plt.ylabel('y - axis')\n",
        "# giving a title to my graph\n",
        "plt.title('Gathered vs Estimated')\n",
        "\n",
        "# show a legend on the plot\n",
        "plt.legend()\n",
        "\n",
        "# function to show the plot\n",
        "plt.show()\n",
        "\n",
        "\n",
        "\n"
      ],
      "metadata": {
        "colab": {
          "base_uri": "https://localhost:8080/",
          "height": 295
        },
        "id": "K6YFKuarYiY-",
        "outputId": "28bd6be9-261d-4ac6-c73c-a5eb6378e763"
      },
      "execution_count": 14,
      "outputs": [
        {
          "output_type": "display_data",
          "data": {
            "text/plain": [
              "<Figure size 432x288 with 1 Axes>"
            ],
            "image/png": "[encoded data removed]"
          },
          "metadata": {
            "needs_background": "light"
          }
        }
      ]
    },
    {
      "cell_type": "markdown",
      "source": [
        "## Cost"
      ],
      "metadata": {
        "id": "3iUMackD9NEB"
      }
    },
    {
      "cell_type": "code",
      "source": [
        "theta = np.zeros((1,2)) \n",
        "cost = cost_val(x1M, yVal, theta) \n",
        "print('The cost for given values of theta_0 and theta_1 =', cost) "
      ],
      "metadata": {
        "colab": {
          "base_uri": "https://localhost:8080/"
        },
        "id": "BhdwcYN30OWU",
        "outputId": "8b28d962-7fb1-4e5e-af18-b9d69072cdca"
      },
      "execution_count": 15,
      "outputs": [
        {
          "output_type": "stream",
          "name": "stdout",
          "text": [
            "The cost for given values of theta_0 and theta_1 = 11.04887691839248\n"
          ]
        }
      ]
    },
    {
      "cell_type": "markdown",
      "source": [
        "## Gradient Descent"
      ],
      "metadata": {
        "id": "WaX0fUb89R37"
      }
    },
    {
      "cell_type": "code",
      "source": [
        "iterations = 1500; \n",
        "alpha = 0.01;\n",
        "theta_x2, cost_history_x1 = gradient_descent(x1M, yVal, theta, alpha, iterations)\n",
        "print('Final value of theta for x2 =', theta_x2)  "
      ],
      "metadata": {
        "colab": {
          "base_uri": "https://localhost:8080/"
        },
        "id": "DU0KvXKu6J4l",
        "outputId": "62c350d1-4eaa-4338-8364-91d051c17a31"
      },
      "execution_count": 18,
      "outputs": [
        {
          "output_type": "stream",
          "name": "stdout",
          "text": [
            "Final value of theta for x2 = [[0.17347345 0.17347345]]\n"
          ]
        }
      ]
    },
    {
      "cell_type": "code",
      "source": [
        "plt.plot(range(1, iterations + 1),cost_history_x1) \n",
        "\n",
        "plt.xlabel('Iterations') \n",
        "plt.ylabel('Cost') \n",
        "plt.title('Convergence of gradient descent') "
      ],
      "metadata": {
        "colab": {
          "base_uri": "https://localhost:8080/",
          "height": 312
        },
        "id": "7R3fEoqQbDou",
        "outputId": "bfa0b9d3-b0e8-4d42-d9c4-0ab333179a57"
      },
      "execution_count": 19,
      "outputs": [
        {
          "output_type": "execute_result",
          "data": {
            "text/plain": [
              "Text(0.5, 1.0, 'Convergence of gradient descent')"
            ]
          },
          "metadata": {},
          "execution_count": 19
        },
        {
          "output_type": "display_data",
          "data": {
            "text/plain": [
              "<Figure size 432x288 with 1 Axes>"
            ],
            "image/png": "[encoded data removed]"
          },
          "metadata": {
            "needs_background": "light"
          }
        }
      ]
    },
    {
      "cell_type": "markdown",
      "source": [
        "# Problem 1: x2"
      ],
      "metadata": {
        "id": "9XMg-hOF93nd"
      }
    },
    {
      "cell_type": "markdown",
      "source": [
        "##Linear Model"
      ],
      "metadata": {
        "id": "4QxDYVLF-B9f"
      }
    },
    {
      "cell_type": "code",
      "source": [
        " \n",
        "x2Matrix, betaMSE_2, x2M, yVal = estimates(x2,y)\n",
        "\n",
        "estiVal2= x2Matrix @ betaMSE_2\n",
        "\n",
        "\n",
        "#plotting both lines\n",
        "# Gathered Data\n",
        "plt.scatter(x2, y, label = \"Gathered data\")\n",
        "\n",
        "#Plotting the Estimated Line \n",
        "xVal = np.linspace(0, 4, 100)\n",
        "\n",
        "#Estimated Y line\n",
        "\n",
        "y_x2=betaMSE_2[0]*xVal + betaMSE_2[1]\n",
        "\n",
        "plt.plot(xVal, y_x2, color='red', label = \"Estimated Values\")\n",
        "\n",
        "# naming the x axis\n",
        "plt.xlabel('x - axis')\n",
        "# naming the y axis\n",
        "plt.ylabel('y - axis')\n",
        "# giving a title to my graph\n",
        "plt.title('Gathered vs Estimated')\n",
        "\n",
        "# show a legend on the plot\n",
        "plt.legend()\n",
        "\n",
        "# function to show the plot\n",
        "plt.show() \n",
        "\n",
        "\n",
        "\n"
      ],
      "metadata": {
        "colab": {
          "base_uri": "https://localhost:8080/",
          "height": 295
        },
        "outputId": "6c8b90aa-5319-44b8-e61d-75a1f44077b7",
        "id": "bQKgRQ-3-ZmO"
      },
      "execution_count": 21,
      "outputs": [
        {
          "output_type": "display_data",
          "data": {
            "text/plain": [
              "<Figure size 432x288 with 1 Axes>"
            ],
            "image/png": "[encoded data removed]"
          },
          "metadata": {
            "needs_background": "light"
          }
        }
      ]
    },
    {
      "cell_type": "markdown",
      "source": [
        "##Cost"
      ],
      "metadata": {
        "id": "9gHNibCi-GqV"
      }
    },
    {
      "cell_type": "code",
      "source": [
        "theta = np.zeros((1,2)) \n",
        "cost_x2 = cost_val(x2M, yVal, theta) \n",
        "print('The cost for given values of theta_0 and theta_1 =', cost) "
      ],
      "metadata": {
        "colab": {
          "base_uri": "https://localhost:8080/"
        },
        "id": "3JmG1-0KLvWv",
        "outputId": "1bbfd6ae-77b1-4ba7-b57b-7f8a18e3cfeb"
      },
      "execution_count": 22,
      "outputs": [
        {
          "output_type": "stream",
          "name": "stdout",
          "text": [
            "The cost for given values of theta_0 and theta_1 = 11.04887691839248\n"
          ]
        }
      ]
    },
    {
      "cell_type": "markdown",
      "source": [
        "##Gradient Descent"
      ],
      "metadata": {
        "id": "kRciBIgr-Ke7"
      }
    },
    {
      "cell_type": "code",
      "source": [
        "iterations = 1500; \n",
        "alpha = 0.01;\n",
        "theta_x2, cost_history_x2 = gradient_descent(x2M, yVal, theta, alpha, iterations)\n",
        "print('Final value of theta for x2 =', theta_x2)  "
      ],
      "metadata": {
        "colab": {
          "base_uri": "https://localhost:8080/"
        },
        "id": "sXN-vCywOO9F",
        "outputId": "e4a91f42-ea67-40a7-b44c-c5927c7943f7"
      },
      "execution_count": 23,
      "outputs": [
        {
          "output_type": "stream",
          "name": "stdout",
          "text": [
            "Final value of theta for x2 = [[0.83224654 0.83224654]]\n"
          ]
        }
      ]
    },
    {
      "cell_type": "code",
      "source": [
        "plt.plot(range(1, iterations + 1),cost_history_x2) \n",
        "\n",
        "plt.xlabel('Iterations') \n",
        "plt.ylabel('Cost') \n",
        "plt.title('Convergence of gradient descent') "
      ],
      "metadata": {
        "colab": {
          "base_uri": "https://localhost:8080/",
          "height": 312
        },
        "id": "-OgHcM-KOWlW",
        "outputId": "ae6b0ff7-0edc-4669-d02a-d95546ca5ee5"
      },
      "execution_count": 24,
      "outputs": [
        {
          "output_type": "execute_result",
          "data": {
            "text/plain": [
              "Text(0.5, 1.0, 'Convergence of gradient descent')"
            ]
          },
          "metadata": {},
          "execution_count": 24
        },
        {
          "output_type": "display_data",
          "data": {
            "text/plain": [
              "<Figure size 432x288 with 1 Axes>"
            ],
            "image/png": "[encoded data removed]"
          },
          "metadata": {
            "needs_background": "light"
          }
        }
      ]
    },
    {
      "cell_type": "markdown",
      "source": [
        "# Problem 1: x3"
      ],
      "metadata": {
        "id": "WVYafZjZ-82R"
      }
    },
    {
      "cell_type": "markdown",
      "source": [
        "##Linear Model"
      ],
      "metadata": {
        "id": "YNb-EG0U-82R"
      }
    },
    {
      "cell_type": "code",
      "source": [
        "\n",
        "x3Matrix, betaMSE_3, x3M, yVal = estimates(x3,y)\n",
        "\n",
        "estiVal3= x3Matrix @ betaMSE_3\n",
        "\n",
        "#plotting both lines\n",
        "# Gathered Data\n",
        "plt.scatter(x3, y, label = \"Gathered data\")\n",
        "\n",
        "#Plotting the Estimated Line \n",
        "xVal = np.linspace(0, 4, 100)\n",
        "\n",
        "#Estimated Y line\n",
        "y_x2=betaMSE_3[0]*xVal + betaMSE_3[1]\n",
        "\n",
        "plt.plot(xVal, estiVal, color='red', label = \"Estimated Values\")\n",
        "\n",
        "# naming the x axis\n",
        "plt.xlabel('x - axis')\n",
        "# naming the y axis\n",
        "plt.ylabel('y - axis')\n",
        "# giving a title to my graph\n",
        "plt.title('Gathered vs Estimated')\n",
        "\n",
        "# show a legend on the plot\n",
        "plt.legend()\n",
        "\n",
        "# function to show the plot\n",
        "plt.show()\n",
        "\n",
        "\n",
        "\n"
      ],
      "metadata": {
        "colab": {
          "base_uri": "https://localhost:8080/",
          "height": 295
        },
        "outputId": "0568556e-75c9-41d0-b050-2ad89e51a9e0",
        "id": "wS-Z4XUs-82S"
      },
      "execution_count": 25,
      "outputs": [
        {
          "output_type": "display_data",
          "data": {
            "text/plain": [
              "<Figure size 432x288 with 1 Axes>"
            ],
            "image/png": "[encoded data removed]"
          },
          "metadata": {
            "needs_background": "light"
          }
        }
      ]
    },
    {
      "cell_type": "markdown",
      "source": [
        "##Cost"
      ],
      "metadata": {
        "id": "H8nJAG8m-82S"
      }
    },
    {
      "cell_type": "code",
      "source": [
        "theta = np.zeros((1,2)) \n",
        "cost_x3 = cost_val(x3M, yVal, theta) \n",
        "print('The cost for given values of theta_0 and theta_1 =', cost) "
      ],
      "metadata": {
        "colab": {
          "base_uri": "https://localhost:8080/"
        },
        "id": "tzZ9aM0jZUFw",
        "outputId": "b8c06771-f76a-4893-e8a3-220e86b102a8"
      },
      "execution_count": 26,
      "outputs": [
        {
          "output_type": "stream",
          "name": "stdout",
          "text": [
            "The cost for given values of theta_0 and theta_1 = 11.04887691839248\n"
          ]
        }
      ]
    },
    {
      "cell_type": "markdown",
      "source": [
        "##Gradient Descent"
      ],
      "metadata": {
        "id": "cHtFpjxA-82S"
      }
    },
    {
      "cell_type": "code",
      "source": [
        "iterations = 1500; \n",
        "alpha = 0.01;\n",
        "theta_x3, cost_history_x3 = gradient_descent(x3M, yVal, theta, alpha, iterations)\n",
        "print('Final value of theta for x2 =', theta_x3)  "
      ],
      "metadata": {
        "colab": {
          "base_uri": "https://localhost:8080/"
        },
        "id": "rW5DFMrrZZrg",
        "outputId": "ed469756-5dfd-443c-9493-e8ca9c54fb64"
      },
      "execution_count": 27,
      "outputs": [
        {
          "output_type": "stream",
          "name": "stdout",
          "text": [
            "Final value of theta for x2 = [[0.56586388 0.56586388]]\n"
          ]
        }
      ]
    },
    {
      "cell_type": "code",
      "source": [
        "plt.plot(range(1, iterations+1),cost_history_x3) \n",
        "\n",
        "plt.xlabel('Iterations') \n",
        "plt.ylabel('Cost') \n",
        "plt.title('Convergence of gradient descent') "
      ],
      "metadata": {
        "colab": {
          "base_uri": "https://localhost:8080/",
          "height": 312
        },
        "id": "3N_sMDb9ZdYL",
        "outputId": "0bf0dec5-f488-401f-deec-a4beb9298318"
      },
      "execution_count": 28,
      "outputs": [
        {
          "output_type": "execute_result",
          "data": {
            "text/plain": [
              "Text(0.5, 1.0, 'Convergence of gradient descent')"
            ]
          },
          "metadata": {},
          "execution_count": 28
        },
        {
          "output_type": "display_data",
          "data": {
            "text/plain": [
              "<Figure size 432x288 with 1 Axes>"
            ],
            "image/png": "[encoded data removed]"
          },
          "metadata": {
            "needs_background": "light"
          }
        }
      ]
    },
    {
      "cell_type": "markdown",
      "source": [
        "#Problem 2"
      ],
      "metadata": {
        "id": "B_yl74ama72Z"
      }
    },
    {
      "cell_type": "markdown",
      "source": [
        "##Calculating the Linear Model with all 3 values"
      ],
      "metadata": {
        "id": "nxAidZ3GbP1k"
      }
    },
    {
      "cell_type": "markdown",
      "source": [
        "Linear Regression with 3 input variables is denoted as the following:\n",
        "\n",
        "β_0 + β_1*x_1 + β_2*x_2 + β_3*x_3= y"
      ],
      "metadata": {
        "id": "3GtTeBQ-kLgW"
      }
    },
    {
      "cell_type": "code",
      "source": [
        "\n",
        "def estimatesForAll(X, X2, X3, Y):\n",
        "\n",
        "  #making the Column of 1's\n",
        "  xOnes = np.ones((100,1))\n",
        "\n",
        "  #Creating the Matrix  the X values and Ones into a 100 by 4 matrix \n",
        "  s1 = X.values\n",
        "  matrix1 = s1.reshape(-1,1)\n",
        "\n",
        "  s2 = X2.values\n",
        "  matrix2 = s2.reshape(-1,1)\n",
        "\n",
        "  s3 = X.values\n",
        "  matrix3 = s3.reshape(-1,1)\n",
        "\n",
        "  xMatrix_Final = np.hstack((matrix1, matrix2, matrix3,xOnes))\n",
        "\n",
        "  #Transpose matrix\n",
        "  mT = xMatrix_Final.transpose()\n",
        "\n",
        "  #Identity Matrix\n",
        "  identyMatrix = mT @ xMatrix_Final\n",
        "\n",
        "  #Inverse of Identity Matrix\n",
        "  inverVal = np.linalg.inv(identyMatrix)\n",
        "\n",
        "  #Converting the Y values to a usable matrix\n",
        "  ys = Y.values\n",
        "  yVal = ys.reshape(-1,1)\n",
        "\n",
        "  #Calculating the Betas \n",
        "  #betaMSE = inverVal @ mT @ yVal\n",
        "\n",
        "  return xMatrix_Final, betaMSE\n",
        "  "
      ],
      "metadata": {
        "id": "44o_sHyMbhhZ"
      },
      "execution_count": 29,
      "outputs": []
    },
    {
      "cell_type": "code",
      "source": [
        "xMatrix_Final, betaMSE_Final = estimatesForAll(x1, x2, x3,y)\n"
      ],
      "metadata": {
        "colab": {
          "base_uri": "https://localhost:8080/",
          "height": 345
        },
        "id": "_M8a5auxci5F",
        "outputId": "570e5de2-458e-49ab-c73f-6b02d43791ed"
      },
      "execution_count": 30,
      "outputs": [
        {
          "output_type": "error",
          "ename": "LinAlgError",
          "evalue": "ignored",
          "traceback": [
            "\u001b[0;31m---------------------------------------------------------------------------\u001b[0m",
            "\u001b[0;31mLinAlgError\u001b[0m                               Traceback (most recent call last)",
            "\u001b[0;32m<ipython-input-30-00592766f5d3>\u001b[0m in \u001b[0;36m<module>\u001b[0;34m\u001b[0m\n\u001b[0;32m----> 1\u001b[0;31m \u001b[0mxMatrix_Final\u001b[0m\u001b[0;34m,\u001b[0m \u001b[0mbetaMSE_Final\u001b[0m \u001b[0;34m=\u001b[0m \u001b[0mestimatesForAll\u001b[0m\u001b[0;34m(\u001b[0m\u001b[0mx1\u001b[0m\u001b[0;34m,\u001b[0m \u001b[0mx2\u001b[0m\u001b[0;34m,\u001b[0m \u001b[0mx3\u001b[0m\u001b[0;34m,\u001b[0m\u001b[0my\u001b[0m\u001b[0;34m)\u001b[0m\u001b[0;34m\u001b[0m\u001b[0;34m\u001b[0m\u001b[0m\n\u001b[0m",
            "\u001b[0;32m<ipython-input-29-8f7122f854c8>\u001b[0m in \u001b[0;36mestimatesForAll\u001b[0;34m(X, X2, X3, Y)\u001b[0m\n\u001b[1;32m     23\u001b[0m \u001b[0;34m\u001b[0m\u001b[0m\n\u001b[1;32m     24\u001b[0m   \u001b[0;31m#Inverse of Identity Matrix\u001b[0m\u001b[0;34m\u001b[0m\u001b[0;34m\u001b[0m\u001b[0;34m\u001b[0m\u001b[0m\n\u001b[0;32m---> 25\u001b[0;31m   \u001b[0minverVal\u001b[0m \u001b[0;34m=\u001b[0m \u001b[0mnp\u001b[0m\u001b[0;34m.\u001b[0m\u001b[0mlinalg\u001b[0m\u001b[0;34m.\u001b[0m\u001b[0minv\u001b[0m\u001b[0;34m(\u001b[0m\u001b[0midentyMatrix\u001b[0m\u001b[0;34m)\u001b[0m\u001b[0;34m\u001b[0m\u001b[0;34m\u001b[0m\u001b[0m\n\u001b[0m\u001b[1;32m     26\u001b[0m \u001b[0;34m\u001b[0m\u001b[0m\n\u001b[1;32m     27\u001b[0m   \u001b[0;31m#Converting the Y values to a usable matrix\u001b[0m\u001b[0;34m\u001b[0m\u001b[0;34m\u001b[0m\u001b[0;34m\u001b[0m\u001b[0m\n",
            "\u001b[0;32m<__array_function__ internals>\u001b[0m in \u001b[0;36minv\u001b[0;34m(*args, **kwargs)\u001b[0m\n",
            "\u001b[0;32m/usr/local/lib/python3.8/dist-packages/numpy/linalg/linalg.py\u001b[0m in \u001b[0;36minv\u001b[0;34m(a)\u001b[0m\n\u001b[1;32m    543\u001b[0m     \u001b[0msignature\u001b[0m \u001b[0;34m=\u001b[0m \u001b[0;34m'D->D'\u001b[0m \u001b[0;32mif\u001b[0m \u001b[0misComplexType\u001b[0m\u001b[0;34m(\u001b[0m\u001b[0mt\u001b[0m\u001b[0;34m)\u001b[0m \u001b[0;32melse\u001b[0m \u001b[0;34m'd->d'\u001b[0m\u001b[0;34m\u001b[0m\u001b[0;34m\u001b[0m\u001b[0m\n\u001b[1;32m    544\u001b[0m     \u001b[0mextobj\u001b[0m \u001b[0;34m=\u001b[0m \u001b[0mget_linalg_error_extobj\u001b[0m\u001b[0;34m(\u001b[0m\u001b[0m_raise_linalgerror_singular\u001b[0m\u001b[0;34m)\u001b[0m\u001b[0;34m\u001b[0m\u001b[0;34m\u001b[0m\u001b[0m\n\u001b[0;32m--> 545\u001b[0;31m     \u001b[0mainv\u001b[0m \u001b[0;34m=\u001b[0m \u001b[0m_umath_linalg\u001b[0m\u001b[0;34m.\u001b[0m\u001b[0minv\u001b[0m\u001b[0;34m(\u001b[0m\u001b[0ma\u001b[0m\u001b[0;34m,\u001b[0m \u001b[0msignature\u001b[0m\u001b[0;34m=\u001b[0m\u001b[0msignature\u001b[0m\u001b[0;34m,\u001b[0m \u001b[0mextobj\u001b[0m\u001b[0;34m=\u001b[0m\u001b[0mextobj\u001b[0m\u001b[0;34m)\u001b[0m\u001b[0;34m\u001b[0m\u001b[0;34m\u001b[0m\u001b[0m\n\u001b[0m\u001b[1;32m    546\u001b[0m     \u001b[0;32mreturn\u001b[0m \u001b[0mwrap\u001b[0m\u001b[0;34m(\u001b[0m\u001b[0mainv\u001b[0m\u001b[0;34m.\u001b[0m\u001b[0mastype\u001b[0m\u001b[0;34m(\u001b[0m\u001b[0mresult_t\u001b[0m\u001b[0;34m,\u001b[0m \u001b[0mcopy\u001b[0m\u001b[0;34m=\u001b[0m\u001b[0;32mFalse\u001b[0m\u001b[0;34m)\u001b[0m\u001b[0;34m)\u001b[0m\u001b[0;34m\u001b[0m\u001b[0;34m\u001b[0m\u001b[0m\n\u001b[1;32m    547\u001b[0m \u001b[0;34m\u001b[0m\u001b[0m\n",
            "\u001b[0;32m/usr/local/lib/python3.8/dist-packages/numpy/linalg/linalg.py\u001b[0m in \u001b[0;36m_raise_linalgerror_singular\u001b[0;34m(err, flag)\u001b[0m\n\u001b[1;32m     86\u001b[0m \u001b[0;34m\u001b[0m\u001b[0m\n\u001b[1;32m     87\u001b[0m \u001b[0;32mdef\u001b[0m \u001b[0m_raise_linalgerror_singular\u001b[0m\u001b[0;34m(\u001b[0m\u001b[0merr\u001b[0m\u001b[0;34m,\u001b[0m \u001b[0mflag\u001b[0m\u001b[0;34m)\u001b[0m\u001b[0;34m:\u001b[0m\u001b[0;34m\u001b[0m\u001b[0;34m\u001b[0m\u001b[0m\n\u001b[0;32m---> 88\u001b[0;31m     \u001b[0;32mraise\u001b[0m \u001b[0mLinAlgError\u001b[0m\u001b[0;34m(\u001b[0m\u001b[0;34m\"Singular matrix\"\u001b[0m\u001b[0;34m)\u001b[0m\u001b[0;34m\u001b[0m\u001b[0;34m\u001b[0m\u001b[0m\n\u001b[0m\u001b[1;32m     89\u001b[0m \u001b[0;34m\u001b[0m\u001b[0m\n\u001b[1;32m     90\u001b[0m \u001b[0;32mdef\u001b[0m \u001b[0m_raise_linalgerror_nonposdef\u001b[0m\u001b[0;34m(\u001b[0m\u001b[0merr\u001b[0m\u001b[0;34m,\u001b[0m \u001b[0mflag\u001b[0m\u001b[0;34m)\u001b[0m\u001b[0;34m:\u001b[0m\u001b[0;34m\u001b[0m\u001b[0;34m\u001b[0m\u001b[0m\n",
            "\u001b[0;31mLinAlgError\u001b[0m: Singular matrix"
          ]
        }
      ]
    },
    {
      "cell_type": "markdown",
      "source": [
        "##Predicting Values"
      ],
      "metadata": {
        "id": "1Xnj1R7Xd4pG"
      }
    },
    {
      "cell_type": "code",
      "source": [
        "y111 = betaMSE_1[0]*1 + betaMSE_2[0]*1 +betaMSE_3[0]*1\n",
        "print('The predicted value at (1,1,1) is ', y111)\n",
        "\n",
        "y204 = betaMSE_1[0]*2 + betaMSE_2[0]*0 +betaMSE_3[0]*4\n",
        "print('The predicted value at (2,0,4) is ', y204)\n",
        "\n",
        "y321 = betaMSE_1[0]*3 + betaMSE_2[0]*2 +betaMSE_3[0]*1\n",
        "print('The predicted value at (3,2,1) is ', y321)"
      ],
      "metadata": {
        "id": "nTuouIz-dw53",
        "colab": {
          "base_uri": "https://localhost:8080/"
        },
        "outputId": "883dc358-bfc0-4409-b694-ea2b42b5d361"
      },
      "execution_count": 31,
      "outputs": [
        {
          "output_type": "stream",
          "name": "stdout",
          "text": [
            "The predicted value at (1,1,1) is  [-2.00121191]\n",
            "The predicted value at (2,0,4) is  [-6.1586048]\n",
            "The predicted value at (3,2,1) is  [-5.52027756]\n"
          ]
        }
      ]
    }
  ]
}