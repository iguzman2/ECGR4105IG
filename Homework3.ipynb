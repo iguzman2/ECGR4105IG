{
  "nbformat": 4,
  "nbformat_minor": 0,
  "metadata": {
    "colab": {
      "provenance": []
    },
    "kernelspec": {
      "name": "python3",
      "display_name": "Python 3"
    },
    "language_info": {
      "name": "python"
    }
  },
  "cells": [
    {
      "cell_type": "markdown",
      "source": [
        "Importing file and packages\n"
      ],
      "metadata": {
        "id": "d_BtVh7QKIAU"
      }
    },
    {
      "cell_type": "code",
      "execution_count": 10,
      "metadata": {
        "id": "ikIS8LACGHgu"
      },
      "outputs": [],
      "source": [
        "#importing the necessary variables \n",
        "import numpy as np \n",
        "import pandas as pd \n",
        "import matplotlib.pyplot as plt \n",
        "from google.colab import files\n"
      ]
    },
    {
      "cell_type": "markdown",
      "source": [
        "Importing Arrays\n"
      ],
      "metadata": {
        "id": "cEPviit0KM9U"
      }
    },
    {
      "cell_type": "code",
      "source": [
        "from sklearn.model_selection import train_test_split\n",
        "from sklearn.preprocessing import StandardScaler\n",
        "from sklearn.linear_model import LogisticRegression\n",
        "from sklearn.metrics import confusion_matrix\n",
        "\n",
        "from sklearn import metrics\n",
        "import seaborn as sns\n",
        "from sklearn.model_selection import KFold\n",
        "from sklearn.model_selection import cross_val_score"
      ],
      "metadata": {
        "id": "bi0xOQxqNbeg"
      },
      "execution_count": 1,
      "outputs": []
    },
    {
      "cell_type": "markdown",
      "source": [
        "# Problem 1"
      ],
      "metadata": {
        "id": "SsOEDVKbQ3Y9"
      }
    },
    {
      "cell_type": "code",
      "source": [
        "from sklearn.naive_bayes import GaussianNB\n",
        "from sklearn.datasets import load_breast_cancer\n",
        "breast = load_breast_cancer()\n",
        "x1 = breast.data\n",
        "y1 = breast.target\n",
        "\n",
        "model = GaussianNB()\n",
        "\n",
        "model.fit(x1,y1)\n",
        "print(model)\n",
        "\n",
        "#making the predictions\n",
        "expected = y1\n",
        "predicted = model.predict(x1)\n",
        "\n",
        "print(metrics.classification_report(expected,predicted))\n",
        "print(metrics.confusion_matrix(expected,predicted))"
      ],
      "metadata": {
        "id": "aVGA5jOFQ8_j",
        "colab": {
          "base_uri": "https://localhost:8080/"
        },
        "outputId": "faa56009-fa01-41b1-ba3f-95c6a161124d"
      },
      "execution_count": 7,
      "outputs": [
        {
          "output_type": "stream",
          "name": "stdout",
          "text": [
            "GaussianNB()\n",
            "              precision    recall  f1-score   support\n",
            "\n",
            "           0       0.95      0.89      0.92       212\n",
            "           1       0.94      0.97      0.95       357\n",
            "\n",
            "    accuracy                           0.94       569\n",
            "   macro avg       0.94      0.93      0.94       569\n",
            "weighted avg       0.94      0.94      0.94       569\n",
            "\n",
            "[[189  23]\n",
            " [ 10 347]]\n"
          ]
        }
      ]
    },
    {
      "cell_type": "markdown",
      "source": [
        "#Problem 2\n"
      ],
      "metadata": {
        "id": "07SXr20sDmyy"
      }
    },
    {
      "cell_type": "code",
      "source": [
        "x2PCA = StandardScaler().fit_transform(x1)\n",
        "from sklearn.decomposition import PCA\n",
        "pca = PCA(n_components=5)\n",
        "principalComponents = pca.fit_transform(x2PCA)\n",
        "\n",
        "\n",
        "X2_train, X2_test, Y2_train, Y2_test = train_test_split(principalComponents, y1, test_size = 0.20, random_state = 0)\n",
        "\n",
        "sc_X = StandardScaler()\n",
        "X2_train = sc_X.fit_transform(X2_train)\n",
        "X2_test = sc_X.transform(X2_test)\n",
        "\n",
        "classifier = LogisticRegression(random_state=0)\n",
        "classifier.fit(X2_train, Y2_train)\n",
        "\n",
        "Y2_pred = classifier.predict(X2_test)\n",
        "\n",
        "cnf_matrix3 = confusion_matrix(Y2_test, Y2_pred)\n",
        "\n",
        "\n",
        "print(\"Accuracy:\",metrics.accuracy_score(Y2_test, Y2_pred)*100.0)\n",
        "print(\"Precision:\",metrics.precision_score(Y2_test, Y2_pred)*100.0)\n",
        "print(\"Recall:\",metrics.recall_score(Y2_test, Y2_pred)*100.0)"
      ],
      "metadata": {
        "colab": {
          "base_uri": "https://localhost:8080/"
        },
        "id": "Py_YxPdGDrVJ",
        "outputId": "de627f96-d54d-4e2b-8bcf-074010262a44"
      },
      "execution_count": 53,
      "outputs": [
        {
          "output_type": "stream",
          "name": "stdout",
          "text": [
            "Accuracy: 95.6140350877193\n",
            "Precision: 94.28571428571428\n",
            "Recall: 98.50746268656717\n"
          ]
        }
      ]
    },
    {
      "cell_type": "code",
      "source": [
        "class_names3=[0,1] # name of classes\n",
        "fig, ax = plt.subplots()\n",
        "tick_marks = np.arange(len(class_names3))\n",
        "plt.xticks(tick_marks, class_names3)\n",
        "plt.yticks(tick_marks, class_names3)\n",
        "# create heatmap\n",
        "sns.heatmap(pd.DataFrame(cnf_matrix3), annot=True, cmap=\"YlGnBu\" ,fmt='g')\n",
        "ax.xaxis.set_label_position(\"top\")\n",
        "plt.tight_layout()\n",
        "plt.title('Problem 3 Confusion matrix', y=1.1)\n",
        "plt.ylabel('Actual label')\n",
        "plt.xlabel('Predicted label')"
      ],
      "metadata": {
        "colab": {
          "base_uri": "https://localhost:8080/",
          "height": 568
        },
        "id": "tLMmkOg5I-BI",
        "outputId": "a11b4403-d88d-4531-d7e0-5601b3978e3b"
      },
      "execution_count": 54,
      "outputs": [
        {
          "output_type": "execute_result",
          "data": {
            "text/plain": [
              "Text(0.5, 427.9555555555555, 'Predicted label')"
            ]
          },
          "metadata": {},
          "execution_count": 54
        },
        {
          "output_type": "display_data",
          "data": {
            "text/plain": [
              "<Figure size 640x480 with 2 Axes>"
            ],
            "image/png": "[encoded data removed]"
          },
          "metadata": {}
        }
      ]
    },
    {
      "cell_type": "markdown",
      "source": [
        "#Problem 3\n"
      ],
      "metadata": {
        "id": "xYkfo0cayI29"
      }
    },
    {
      "cell_type": "code",
      "source": [
        "x3 = StandardScaler().fit_transform(x1)\n",
        "y3=pd.DataFrame(y1)\n",
        "from sklearn.decomposition import PCA\n",
        "pca = PCA(n_components=20)\n",
        "principalComponents = pca.fit_transform(x3)\n",
        "\n",
        "model.fit(principalComponents,y3)\n",
        "print(model)\n",
        "\n",
        "#making the predictions\n",
        "expected3 = y3\n",
        "predicted3 = model.predict(principalComponents)\n",
        "\n",
        "print(metrics.classification_report(expected3,predicted3))\n",
        "print(metrics.confusion_matrix(expected3,predicted3))"
      ],
      "metadata": {
        "colab": {
          "base_uri": "https://localhost:8080/"
        },
        "id": "Ft7oAbFByMhW",
        "outputId": "ed0e69cc-bc08-4321-f17a-ed760025abc8"
      },
      "execution_count": 46,
      "outputs": [
        {
          "output_type": "stream",
          "name": "stdout",
          "text": [
            "GaussianNB()\n",
            "              precision    recall  f1-score   support\n",
            "\n",
            "           0       0.88      0.80      0.84       212\n",
            "           1       0.89      0.94      0.91       357\n",
            "\n",
            "    accuracy                           0.89       569\n",
            "   macro avg       0.89      0.87      0.88       569\n",
            "weighted avg       0.89      0.89      0.88       569\n",
            "\n",
            "[[169  43]\n",
            " [ 22 335]]\n"
          ]
        },
        {
          "output_type": "stream",
          "name": "stderr",
          "text": [
            "/usr/local/lib/python3.9/dist-packages/sklearn/utils/validation.py:1143: DataConversionWarning: A column-vector y was passed when a 1d array was expected. Please change the shape of y to (n_samples, ), for example using ravel().\n",
            "  y = column_or_1d(y, warn=True)\n"
          ]
        }
      ]
    }
  ]
}