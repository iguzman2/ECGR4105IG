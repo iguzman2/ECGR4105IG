{
  "nbformat": 4,
  "nbformat_minor": 0,
  "metadata": {
    "colab": {
      "provenance": []
    },
    "kernelspec": {
      "name": "python3",
      "display_name": "Python 3"
    },
    "language_info": {
      "name": "python"
    }
  },
  "cells": [
    {
      "cell_type": "code",
      "execution_count": 1,
      "metadata": {
        "colab": {
          "base_uri": "https://localhost:8080/",
          "height": 73
        },
        "id": "w7g2W0xWqQTA",
        "outputId": "4cd306ff-5b65-4386-e511-2b0c20c8bb28"
      },
      "outputs": [
        {
          "output_type": "display_data",
          "data": {
            "text/plain": [
              "<IPython.core.display.HTML object>"
            ],
            "text/html": [
              "\n",
              "     <input type=\"file\" id=\"files-2334e766-55f0-4578-8b21-8e76aa44e6a4\" name=\"files[]\" multiple disabled\n",
              "        style=\"border:none\" />\n",
              "     <output id=\"result-2334e766-55f0-4578-8b21-8e76aa44e6a4\">\n",
              "      Upload widget is only available when the cell has been executed in the\n",
              "      current browser session. Please rerun this cell to enable.\n",
              "      </output>\n",
              "      <script>// Copyright 2017 Google LLC\n",
              "//\n",
              "// Licensed under the Apache License, Version 2.0 (the \"License\");\n",
              "// you may not use this file except in compliance with the License.\n",
              "// You may obtain a copy of the License at\n",
              "//\n",
              "//      http://www.apache.org/licenses/LICENSE-2.0\n",
              "//\n",
              "// Unless required by applicable law or agreed to in writing, software\n",
              "// distributed under the License is distributed on an \"AS IS\" BASIS,\n",
              "// WITHOUT WARRANTIES OR CONDITIONS OF ANY KIND, either express or implied.\n",
              "// See the License for the specific language governing permissions and\n",
              "// limitations under the License.\n",
              "\n",
              "/**\n",
              " * @fileoverview Helpers for google.colab Python module.\n",
              " */\n",
              "(function(scope) {\n",
              "function span(text, styleAttributes = {}) {\n",
              "  const element = document.createElement('span');\n",
              "  element.textContent = text;\n",
              "  for (const key of Object.keys(styleAttributes)) {\n",
              "    element.style[key] = styleAttributes[key];\n",
              "  }\n",
              "  return element;\n",
              "}\n",
              "\n",
              "// Max number of bytes which will be uploaded at a time.\n",
              "const MAX_PAYLOAD_SIZE = 100 * 1024;\n",
              "\n",
              "function _uploadFiles(inputId, outputId) {\n",
              "  const steps = uploadFilesStep(inputId, outputId);\n",
              "  const outputElement = document.getElementById(outputId);\n",
              "  // Cache steps on the outputElement to make it available for the next call\n",
              "  // to uploadFilesContinue from Python.\n",
              "  outputElement.steps = steps;\n",
              "\n",
              "  return _uploadFilesContinue(outputId);\n",
              "}\n",
              "\n",
              "// This is roughly an async generator (not supported in the browser yet),\n",
              "// where there are multiple asynchronous steps and the Python side is going\n",
              "// to poll for completion of each step.\n",
              "// This uses a Promise to block the python side on completion of each step,\n",
              "// then passes the result of the previous step as the input to the next step.\n",
              "function _uploadFilesContinue(outputId) {\n",
              "  const outputElement = document.getElementById(outputId);\n",
              "  const steps = outputElement.steps;\n",
              "\n",
              "  const next = steps.next(outputElement.lastPromiseValue);\n",
              "  return Promise.resolve(next.value.promise).then((value) => {\n",
              "    // Cache the last promise value to make it available to the next\n",
              "    // step of the generator.\n",
              "    outputElement.lastPromiseValue = value;\n",
              "    return next.value.response;\n",
              "  });\n",
              "}\n",
              "\n",
              "/**\n",
              " * Generator function which is called between each async step of the upload\n",
              " * process.\n",
              " * @param {string} inputId Element ID of the input file picker element.\n",
              " * @param {string} outputId Element ID of the output display.\n",
              " * @return {!Iterable<!Object>} Iterable of next steps.\n",
              " */\n",
              "function* uploadFilesStep(inputId, outputId) {\n",
              "  const inputElement = document.getElementById(inputId);\n",
              "  inputElement.disabled = false;\n",
              "\n",
              "  const outputElement = document.getElementById(outputId);\n",
              "  outputElement.innerHTML = '';\n",
              "\n",
              "  const pickedPromise = new Promise((resolve) => {\n",
              "    inputElement.addEventListener('change', (e) => {\n",
              "      resolve(e.target.files);\n",
              "    });\n",
              "  });\n",
              "\n",
              "  const cancel = document.createElement('button');\n",
              "  inputElement.parentElement.appendChild(cancel);\n",
              "  cancel.textContent = 'Cancel upload';\n",
              "  const cancelPromise = new Promise((resolve) => {\n",
              "    cancel.onclick = () => {\n",
              "      resolve(null);\n",
              "    };\n",
              "  });\n",
              "\n",
              "  // Wait for the user to pick the files.\n",
              "  const files = yield {\n",
              "    promise: Promise.race([pickedPromise, cancelPromise]),\n",
              "    response: {\n",
              "      action: 'starting',\n",
              "    }\n",
              "  };\n",
              "\n",
              "  cancel.remove();\n",
              "\n",
              "  // Disable the input element since further picks are not allowed.\n",
              "  inputElement.disabled = true;\n",
              "\n",
              "  if (!files) {\n",
              "    return {\n",
              "      response: {\n",
              "        action: 'complete',\n",
              "      }\n",
              "    };\n",
              "  }\n",
              "\n",
              "  for (const file of files) {\n",
              "    const li = document.createElement('li');\n",
              "    li.append(span(file.name, {fontWeight: 'bold'}));\n",
              "    li.append(span(\n",
              "        `(${file.type || 'n/a'}) - ${file.size} bytes, ` +\n",
              "        `last modified: ${\n",
              "            file.lastModifiedDate ? file.lastModifiedDate.toLocaleDateString() :\n",
              "                                    'n/a'} - `));\n",
              "    const percent = span('0% done');\n",
              "    li.appendChild(percent);\n",
              "\n",
              "    outputElement.appendChild(li);\n",
              "\n",
              "    const fileDataPromise = new Promise((resolve) => {\n",
              "      const reader = new FileReader();\n",
              "      reader.onload = (e) => {\n",
              "        resolve(e.target.result);\n",
              "      };\n",
              "      reader.readAsArrayBuffer(file);\n",
              "    });\n",
              "    // Wait for the data to be ready.\n",
              "    let fileData = yield {\n",
              "      promise: fileDataPromise,\n",
              "      response: {\n",
              "        action: 'continue',\n",
              "      }\n",
              "    };\n",
              "\n",
              "    // Use a chunked sending to avoid message size limits. See b/62115660.\n",
              "    let position = 0;\n",
              "    do {\n",
              "      const length = Math.min(fileData.byteLength - position, MAX_PAYLOAD_SIZE);\n",
              "      const chunk = new Uint8Array(fileData, position, length);\n",
              "      position += length;\n",
              "\n",
              "      const base64 = btoa(String.fromCharCode.apply(null, chunk));\n",
              "      yield {\n",
              "        response: {\n",
              "          action: 'append',\n",
              "          file: file.name,\n",
              "          data: base64,\n",
              "        },\n",
              "      };\n",
              "\n",
              "      let percentDone = fileData.byteLength === 0 ?\n",
              "          100 :\n",
              "          Math.round((position / fileData.byteLength) * 100);\n",
              "      percent.textContent = `${percentDone}% done`;\n",
              "\n",
              "    } while (position < fileData.byteLength);\n",
              "  }\n",
              "\n",
              "  // All done.\n",
              "  yield {\n",
              "    response: {\n",
              "      action: 'complete',\n",
              "    }\n",
              "  };\n",
              "}\n",
              "\n",
              "scope.google = scope.google || {};\n",
              "scope.google.colab = scope.google.colab || {};\n",
              "scope.google.colab._files = {\n",
              "  _uploadFiles,\n",
              "  _uploadFilesContinue,\n",
              "};\n",
              "})(self);\n",
              "</script> "
            ]
          },
          "metadata": {}
        },
        {
          "output_type": "stream",
          "name": "stdout",
          "text": [
            "Saving Housing.csv to Housing.csv\n"
          ]
        }
      ],
      "source": [
        "\n",
        "#importing the necessary variables \n",
        "import numpy as np \n",
        "import pandas as pd \n",
        "import matplotlib.pyplot as plt \n",
        "from google.colab import files\n",
        "uploaded = files.upload()\n",
        "df = pd.read_csv(\"Housing.csv\")"
      ]
    },
    {
      "cell_type": "markdown",
      "source": [
        "Gathering the input variables"
      ],
      "metadata": {
        "id": "dtXr66O101N9"
      }
    },
    {
      "cell_type": "code",
      "source": [
        "price = df.values[:, 0] #get output values from price column \n",
        "area = df.values[:, 1] #get input values from area column \n",
        "bedrooms = df.values[:, 2] #get input values from bedroom column \n",
        "bathrooms  = df.values[:, 3] #get input values from bathrooms column\n",
        "stories  = df.values[:, 4] #get input values from stories column\n",
        "mainroad = np.where(df.values[:, 5] == 'yes', 2, 1)\n",
        "guestroom = np.where(df.values[:, 6] == 'yes', 2, 1)\n",
        "basement = np.where(df.values[:, 7] == 'yes', 2, 1)\n",
        "hotwaterheating = np.where(df.values[:, 8] == 'yes', 2, 1)\n",
        "airconditioning = np.where(df.values[:, 9] == 'yes', 2, 1)\n",
        "prefarea = np.where(df.values[:, 11] == 'yes', 2, 1)\n",
        "parking  = df.values[:, 10] #get input values from parking column"
      ],
      "metadata": {
        "id": "F2qTTH181C1c"
      },
      "execution_count": 107,
      "outputs": []
    },
    {
      "cell_type": "markdown",
      "source": [
        "# Mean Square Error"
      ],
      "metadata": {
        "id": "NtSEuJ5_D6W7"
      }
    },
    {
      "cell_type": "code",
      "source": [
        "def mean_squared_error (price, price_est): \n",
        "    difference = price - price_est  #finding the difference between observed and predicted valu\n",
        "    squared_difference = difference**2  #taking square of the differene \n",
        "    summation = squared_difference.sum()  #taking a sum of all the differences \n",
        "    MSE = summation/len(price)  #dividing summation to obtain average \n",
        "    return MSE \n"
      ],
      "metadata": {
        "id": "KGHf9KZnD_5x"
      },
      "execution_count": 75,
      "outputs": []
    },
    {
      "cell_type": "markdown",
      "source": [
        "#Gradient Descent 1a"
      ],
      "metadata": {
        "id": "mKdMvgMt2yXD"
      }
    },
    {
      "cell_type": "markdown",
      "source": [
        "Creating a gradient descent off the model of : y=B3*bathrooms_i+B2*bedrooms_i+B1*area_i+B0.\n",
        "\n",
        "With the current inputs it can be shown as price = B5*(parking_i)^5+B4*(stories_i)^4+B3*(bathrooms_i)^3+B2*(bedrooms_i)^2+B1*(area_i)+B0"
      ],
      "metadata": {
        "id": "ghBqwK4L_t3J"
      }
    },
    {
      "cell_type": "code",
      "source": [
        "def gradient_decsent_1a(area, bedrooms, bathrooms, stories, parking, price, lr, i_iter): \n",
        "    beta0 = 0 #initializing parameters to 0 \n",
        "    beta1 = 0 #initializing parameters to 0, this is for area value\n",
        "    beta2 = 0 #initializing parameters to 0, this is for bedrooms value\n",
        "    beta3 = 0 #initializing parameters to 0, this is for bathrooms value\n",
        "    beta4 = 0 #initializing parameters to 0, this is for stories value\n",
        "    beta5 = 0 #initializing parameters to 0, this is for parking value\n",
        "    losses = [] \n",
        "    betas = [] \n",
        "    for i in range (i_iter): \n",
        "      price_est = beta5*parking + beta4*stories + beta3*bathrooms + beta2*bedrooms + beta1*area + beta0 \n",
        "      loss = mean_squared_error(price, price_est) \n",
        "      beta0 = beta0 - (lr*-2*(price-price_est)/len(price)) \n",
        "      beta1 = beta1 - (lr*-2*(area.dot(price-price_est))/len(price)) \n",
        "      beta2 = beta2 - (lr*-2*(bedrooms.dot(price-price_est))/len(price)) \n",
        "      beta3 = beta3 - (lr*-2*(bathrooms.dot(price-price_est))/len(price))\n",
        "      beta4 = beta4 - (lr*-2*(stories.dot(price-price_est))/len(price)) \n",
        "      beta5 = beta5 - (lr*-2*(parking.dot(price-price_est))/len(price))  \n",
        "      losses.append(loss) \n",
        "      betas.append((beta0, beta1, beta2, beta3, beta4, beta5)) \n",
        "    return betas, losses\n"
      ],
      "metadata": {
        "id": "TzxwwIyWBLsu"
      },
      "execution_count": 77,
      "outputs": []
    },
    {
      "cell_type": "markdown",
      "source": [
        "# Problem 1"
      ],
      "metadata": {
        "id": "OdOvYV0aGrxP"
      }
    },
    {
      "cell_type": "markdown",
      "source": [
        "## 1a"
      ],
      "metadata": {
        "id": "0BBMIlz-Smba"
      }
    },
    {
      "cell_type": "code",
      "source": [
        "betas, losses = gradient_decsent_1a(area, bedrooms, bathrooms,stories, parking, price, .01, 26 )\n",
        "print (\"price_est = \", betas[25][5], \"* (parking) + \", betas[25][4], \"* (stories) + \", betas[25][3], \"* (Bathrooms) + \" , betas[25][2], \"* (bedrooms) + \", betas[25][1], \"* (area) + \", betas[25][0])"
      ],
      "metadata": {
        "colab": {
          "base_uri": "https://localhost:8080/"
        },
        "id": "H8SBvuiaGzHn",
        "outputId": "e91b52ea-018f-4a4f-82ae-7786101fd29d"
      },
      "execution_count": 86,
      "outputs": [
        {
          "output_type": "stream",
          "name": "stdout",
          "text": [
            "price_est =  -5.616650414075732e+149 * (parking) +  -1.255414333010409e+150 * (stories) +  -9.074326450505082e+149 * (Bathrooms) +  -2.0595563149189706e+150 * (bedrooms) +  -4.1455618568988635e+153 * (area) +  -4.1455618568988635e+153\n"
          ]
        }
      ]
    },
    {
      "cell_type": "code",
      "source": [
        "x_axis = np.arange(0., 26, 1)\n",
        "plt.grid()\n",
        "plt.xlabel('Iteration')\n",
        "plt.ylabel('Loss')\n",
        "plt.title('Loss Over The Iteration Number')\n",
        "plt.plot(x_axis,losses,color='gold')\n"
      ],
      "metadata": {
        "colab": {
          "base_uri": "https://localhost:8080/",
          "height": 312
        },
        "id": "mRXm-VAqMitr",
        "outputId": "66702d4f-d4d7-499d-bcbd-273048e4be09"
      },
      "execution_count": 87,
      "outputs": [
        {
          "output_type": "execute_result",
          "data": {
            "text/plain": [
              "[<matplotlib.lines.Line2D at 0x7f08db165f40>]"
            ]
          },
          "metadata": {},
          "execution_count": 87
        },
        {
          "output_type": "display_data",
          "data": {
            "text/plain": [
              "<Figure size 432x288 with 1 Axes>"
            ],
            "image/png": "[encoded data removed]"
          },
          "metadata": {
            "needs_background": "light"
          }
        }
      ]
    },
    {
      "cell_type": "code",
      "source": [
        "def gradient_decsent_1a(area, bedrooms, bathrooms, stories, mainroad, guestroom, basement, hotwaterheating, airconditioning, parking,  price, prefarea\n",
        "\n",
        ", lr, i_iter): \n",
        "    beta0 = 0 #initializing parameters to 0 \n",
        "    beta1 = 0 #initializing parameters to 0, this is for area value\n",
        "    beta2 = 0 #initializing parameters to 0, this is for bedrooms value\n",
        "    beta3 = 0 #initializing parameters to 0, this is for bathrooms value\n",
        "    beta4 = 0 #initializing parameters to 0, this is for stories value\n",
        "    beta5 = 0 #initializing parameters to 0, this is for parking value\n",
        "    losses = [] \n",
        "    betas = [] \n",
        "    for i in range (i_iter): \n",
        "      price_est = beta5*parking + beta4*stories + beta3*bathrooms + beta2*bedrooms + beta1*area + beta0 \n",
        "      loss = mean_squared_error(price, price_est) \n",
        "      beta0 = beta0 - (lr*-2*(price-price_est)/len(price)) \n",
        "      beta1 = beta1 - (lr*-2*(area.dot(price-price_est))/len(price)) \n",
        "      beta2 = beta2 - (lr*-2*(bedrooms.dot(price-price_est))/len(price)) \n",
        "      beta3 = beta3 - (lr*-2*(bathrooms.dot(price-price_est))/len(price))\n",
        "      beta4 = beta4 - (lr*-2*(stories.dot(price-price_est))/len(price)) \n",
        "      beta5 = beta5 - (lr*-2*(parking.dot(price-price_est))/len(price))  \n",
        "      losses.append(loss) \n",
        "      betas.append((beta0, beta1, beta2, beta3, beta4, beta5)) \n",
        "    return betas, losses\n"
      ],
      "metadata": {
        "id": "w9YYOXouSsCe"
      },
      "execution_count": null,
      "outputs": []
    },
    {
      "cell_type": "markdown",
      "source": [
        "## 1b"
      ],
      "metadata": {
        "id": "IHDBiYcqXgoM"
      }
    },
    {
      "cell_type": "markdown",
      "source": [
        "Gradient descent"
      ],
      "metadata": {
        "id": "ARZjoWb8fuSC"
      }
    },
    {
      "cell_type": "code",
      "source": [
        "def gradient_decsent_1b(area, bedrooms, bathrooms, stories, mainroad, guestroom, basement, hotwaterheating, airconditioning, parking, prefarea, price, lr, i_iter): \n",
        "    beta0 = 0 #initializing parameters to 0 \n",
        "    beta1 = 0 #initializing parameters to 0, this is for area value\n",
        "    beta2 = 0 #initializing parameters to 0, this is for bedrooms value\n",
        "    beta3 = 0 #initializing parameters to 0, this is for bathrooms value\n",
        "    beta4 = 0 #initializing parameters to 0, this is for stories value\n",
        "    beta5 = 0 #initializing parameters to 0, this is for parking value\n",
        "    beta6 = 0\n",
        "    beta7 = 0\n",
        "    beta8 = 0\n",
        "    beta9 = 0\n",
        "    beta10 = 0\n",
        "    beta11 = 0  \n",
        "    losses = [] \n",
        "    betas = [] \n",
        "    for i in range (i_iter): \n",
        "      price_est = beta11*prefarea + beta10*parking + beta9 * airconditioning + beta8 * hotwaterheating + beta7 * basement+ beta6*guestroom + \\\n",
        "      beta5 * mainroad + beta4*stories + beta3*bathrooms + beta2*bedrooms + beta1*area + beta0 \n",
        "      loss = mean_squared_error(price, price_est) \n",
        "      beta0 = beta0 - (lr*-2*(price-price_est)/len(price)) \n",
        "      beta1 = beta1 - (lr*-2*(area.dot(price-price_est))/len(price)) \n",
        "      beta2 = beta2 - (lr*-2*(bedrooms.dot(price-price_est))/len(price)) \n",
        "      beta3 = beta3 - (lr*-2*(bathrooms.dot(price-price_est))/len(price))\n",
        "      beta4 = beta4 - (lr*-2*(stories.dot(price-price_est))/len(price))\n",
        "      beta5 = beta5 - (lr*-2*(mainroad.dot(price-price_est))/len(price)) \n",
        "      beta6 = beta6 - (lr*-2*(guestroom.dot(price-price_est))/len(price))\n",
        "      beta7 = beta7 - (lr*-2*(basement.dot(price-price_est))/len(price))\n",
        "      beta8 = beta8 - (lr*-2*(hotwaterheating.dot(price-price_est))/len(price))\n",
        "      beta9 = beta9 - (lr*-2*(airconditioning.dot(price-price_est))/len(price))  \n",
        "      beta10 = beta10 - (lr*-2*(parking.dot(price-price_est))/len(price))  \n",
        "      losses.append(loss) \n",
        "      betas.append((beta0, beta1, beta2, beta3, beta4, beta5, beta6, beta7, beta8, beta9, beta10, beta11)) \n",
        "    return betas, losses\n"
      ],
      "metadata": {
        "id": "ueaVewlLXkf7"
      },
      "execution_count": 105,
      "outputs": []
    },
    {
      "cell_type": "code",
      "source": [
        "betas, losses =  gradient_decsent_1b(area, bedrooms, bathrooms, stories, mainroad, guestroom, basement, hotwaterheating, airconditioning, parking, prefarea, price, .01, 26)"
      ],
      "metadata": {
        "id": "T7FIRYDyoRo1"
      },
      "execution_count": 110,
      "outputs": []
    },
    {
      "cell_type": "code",
      "source": [
        "x_axis = np.arange(0., 26, 1)\n",
        "plt.grid()\n",
        "plt.xlabel('Iteration')\n",
        "plt.ylabel('Loss')\n",
        "plt.title('Loss Over The Iteration Number')\n",
        "plt.plot(x_axis,losses,color='gold')\n"
      ],
      "metadata": {
        "colab": {
          "base_uri": "https://localhost:8080/",
          "height": 312
        },
        "id": "0lGT3yu1tKwz",
        "outputId": "8ef73acf-49e5-4bc4-93e9-bda11e4591e2"
      },
      "execution_count": 111,
      "outputs": [
        {
          "output_type": "execute_result",
          "data": {
            "text/plain": [
              "[<matplotlib.lines.Line2D at 0x7f08d9885a60>]"
            ]
          },
          "metadata": {},
          "execution_count": 111
        },
        {
          "output_type": "display_data",
          "data": {
            "text/plain": [
              "<Figure size 432x288 with 1 Axes>"
            ],
            "image/png": "[encoded data removed]"
          },
          "metadata": {
            "needs_background": "light"
          }
        }
      ]
    },
    {
      "cell_type": "code",
      "source": [
        "print(\"price_est = \",  betas[25][11], \"* prefarea  + \", betas[25][10], \" *parking + \" ,betas[25][9], \"* airconditioning + \", betas[25][8],\" * hotwaterheating + \", betas[25][7],\" * basement+ \", betas[25][6], \" *guestroom + \", betas[25][5], \" * mainroad + \", betas[25][4],\"*stories + \", betas[25][3],\"*bathrooms + \", betas[25][2],\"*bedrooms + \",betas[25][1],\"*area + \", betas[25][1] )"
      ],
      "metadata": {
        "colab": {
          "base_uri": "https://localhost:8080/"
        },
        "id": "MAmGTItc45Cc",
        "outputId": "f85c0675-e4a8-45eb-d1b2-c71dc46ceee3"
      },
      "execution_count": 113,
      "outputs": [
        {
          "output_type": "stream",
          "name": "stdout",
          "text": [
            "price_est =  0 * prefarea  +  -5.616688176375642e+149  *parking +  -9.29255282046557e+149 * airconditioning +  -7.145335421340015e+149  * hotwaterheating +  -9.298547289391444e+149  * basement+  -8.208615320675678e+149  *guestroom +  -1.2998116109977679e+150  * mainroad +  -1.255422818210955e+150 *stories +  -9.074387749916238e+149 *bathrooms +  -2.059570233623967e+150 *bedrooms +  -4.145589713547153e+153 *area +  -4.145589713547153e+153\n"
          ]
        }
      ]
    }
  ]
}
